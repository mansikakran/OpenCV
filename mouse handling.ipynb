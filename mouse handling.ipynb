{
 "cells": [
  {
   "cell_type": "code",
   "execution_count": 13,
   "metadata": {},
   "outputs": [],
   "source": [
    "import cv2\n",
    "import numpy as np"
   ]
  },
  {
   "cell_type": "code",
   "execution_count": 14,
   "metadata": {},
   "outputs": [],
   "source": [
    "img = cv2.imread(\"3565.jpg\")\n",
    "copy = np.copy(img)"
   ]
  },
  {
   "cell_type": "code",
   "execution_count": 15,
   "metadata": {},
   "outputs": [],
   "source": [
    "mouse_pressed = False\n",
    "s_x = s_y = e_x = e_y = -1"
   ]
  },
  {
   "cell_type": "code",
   "execution_count": 16,
   "metadata": {},
   "outputs": [],
   "source": [
    "def mouse_callback(event, x, y, flags, param):\n",
    "    global copy, s_x, s_y, e_x, e_y, mouse_pressed\n",
    "\n",
    "    if event == cv2.EVENT_LBUTTONDOWN:\n",
    "        mouse_pressed = True\n",
    "        s_x, s_y = x, y\n",
    "        copy = np.copy(img)\n",
    "\n",
    "    elif event == cv2.EVENT_MOUSEMOVE:\n",
    "        if mouse_pressed:\n",
    "            copy = np.copy(img)\n",
    "            cv2.rectangle(img, (s_x, s_y), (x, y), (0, 255, 0), 1)\n",
    "\n",
    "    elif event == cv2.EVENT_LBUTTONUP:\n",
    "        mouse_pressed = False\n",
    "        e_x, e_y = x, y"
   ]
  },
  {
   "cell_type": "code",
   "execution_count": 17,
   "metadata": {},
   "outputs": [],
   "source": [
    "cv2.namedWindow('image')\n",
    "cv2.setMouseCallback('image', mouse_callback)"
   ]
  },
  {
   "cell_type": "code",
   "execution_count": 18,
   "metadata": {},
   "outputs": [],
   "source": [
    "while True:\n",
    "    cv2.imshow('image', copy)\n",
    "    k = cv2.waitKey()\n",
    "    \n",
    "    if k == ord('c'):\n",
    "        if s_y > e_y:\n",
    "            s_y, e_y = e_y, s_y\n",
    "        if s_x > e_x:\n",
    "            s_x, e_x = e_x, s_x\n",
    "        if e_y - s_y > 1 and e_x - s_x > 0:\n",
    "            img = img[s_y:e_y, s_x:e_x]\n",
    "            copy = np.copy(img)\n",
    "    elif k == 27:\n",
    "        break\n",
    "\n",
    "cv2.destroyAllWindows()"
   ]
  },
  {
   "cell_type": "code",
   "execution_count": null,
   "metadata": {},
   "outputs": [],
   "source": []
  }
 ],
 "metadata": {
  "kernelspec": {
   "display_name": "Python 3",
   "language": "python",
   "name": "python3"
  },
  "language_info": {
   "codemirror_mode": {
    "name": "ipython",
    "version": 3
   },
   "file_extension": ".py",
   "mimetype": "text/x-python",
   "name": "python",
   "nbconvert_exporter": "python",
   "pygments_lexer": "ipython3",
   "version": "3.6.4"
  }
 },
 "nbformat": 4,
 "nbformat_minor": 2
}
